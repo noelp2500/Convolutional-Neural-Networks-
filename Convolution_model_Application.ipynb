{
 "cells": [
  {
   "cell_type": "markdown",
   "metadata": {},
   "source": [
    "# Convolutional Neural Networks: Application\n",
    "\n",
    "Welcome to Course 4's second assignment! In this notebook, you will:\n",
    "\n",
    "- Create a mood classifer using the TF Keras Sequential API\n",
    "- Build a ConvNet to identify sign language digits using the TF Keras Functional API\n",
    "\n",
    "**After this assignment you will be able to:**\n",
    "\n",
    "- Build and train a ConvNet in TensorFlow for a __binary__ classification problem\n",
    "- Build and train a ConvNet in TensorFlow for a __multiclass__ classification problem\n",
    "- Explain different use cases for the Sequential and Functional APIs\n",
    "\n",
    "To complete this assignment, you should already be familiar with TensorFlow. If you are not, please refer back to the **TensorFlow Tutorial** of the third week of Course 2 (\"**Improving deep neural networks**\")."
   ]
  },
  {
   "cell_type": "markdown",
   "metadata": {},
   "source": [
    "## Table of Contents\n",
    "\n",
    "- [1 - Packages](#1)\n",
    "    - [1.1 - Load the Data and Split the Data into Train/Test Sets](#1-1)\n",
    "- [2 - Layers in TF Keras](#2)\n",
    "- [3 - The Sequential API](#3)\n",
    "    - [3.1 - Create the Sequential Model](#3-1)\n",
    "        - [Exercise 1 - happyModel](#ex-1)\n",
    "    - [3.2 - Train and Evaluate the Model](#3-2)\n",
    "- [4 - The Functional API](#4)\n",
    "    - [4.1 - Load the SIGNS Dataset](#4-1)\n",
    "    - [4.2 - Split the Data into Train/Test Sets](#4-2)\n",
    "    - [4.3 - Forward Propagation](#4-3)\n",
    "        - [Exercise 2 - convolutional_model](#ex-2)\n",
    "    - [4.4 - Train the Model](#4-4)\n",
    "- [5 - History Object](#5)\n",
    "- [6 - Bibliography](#6)"
   ]
  },
  {
   "cell_type": "markdown",
   "metadata": {},
   "source": [
    "<a name='1'></a>\n",
    "## 1 - Packages\n",
    "\n",
    "As usual, begin by loading in the packages."
   ]
  },
  {
   "cell_type": "code",
   "execution_count": 3,
   "metadata": {},
   "outputs": [],
   "source": [
    "import math\n",
    "import numpy as np\n",
    "import h5py\n",
    "import matplotlib.pyplot as plt\n",
    "from matplotlib.pyplot import imread\n",
    "import scipy\n",
    "from PIL import Image\n",
    "import pandas as pd\n",
    "import tensorflow as tf\n",
    "import tensorflow.keras.layers as tfl\n",
    "from tensorflow.python.framework import ops\n",
    "from cnn_utils import *\n",
    "from test_utils import summary, comparator\n",
    "\n",
    "%matplotlib inline\n",
    "np.random.seed(1)"
   ]
  },
  {
   "cell_type": "markdown",
   "metadata": {},
   "source": [
    "<a name='1-1'></a>\n",
    "### 1.1 - Load the Data and Split the Data into Train/Test Sets\n",
    "\n",
    "You'll be using the Happy House dataset for this part of the assignment, which contains images of peoples' faces. Your task will be to build a ConvNet that determines whether the people in the images are smiling or not -- because they only get to enter the house if they're smiling!  "
   ]
  },
  {
   "cell_type": "code",
   "execution_count": 4,
   "metadata": {},
   "outputs": [
    {
     "name": "stdout",
     "output_type": "stream",
     "text": [
      "number of training examples = 600\n",
      "number of test examples = 150\n",
      "X_train shape: (600, 64, 64, 3)\n",
      "Y_train shape: (600, 1)\n",
      "X_test shape: (150, 64, 64, 3)\n",
      "Y_test shape: (150, 1)\n"
     ]
    }
   ],
   "source": [
    "X_train_orig, Y_train_orig, X_test_orig, Y_test_orig, classes = load_happy_dataset()\n",
    "\n",
    "# Normalize image vectors\n",
    "X_train = X_train_orig/255.\n",
    "X_test = X_test_orig/255.\n",
    "\n",
    "# Reshape\n",
    "Y_train = Y_train_orig.T\n",
    "Y_test = Y_test_orig.T\n",
    "\n",
    "print (\"number of training examples = \" + str(X_train.shape[0]))\n",
    "print (\"number of test examples = \" + str(X_test.shape[0]))\n",
    "print (\"X_train shape: \" + str(X_train.shape))\n",
    "print (\"Y_train shape: \" + str(Y_train.shape))\n",
    "print (\"X_test shape: \" + str(X_test.shape))\n",
    "print (\"Y_test shape: \" + str(Y_test.shape))"
   ]
  },
  {
   "cell_type": "markdown",
   "metadata": {},
   "source": [
    "You can display the images contained in the dataset. Images are **64x64** pixels in RGB format (3 channels)."
   ]
  },
  {
   "cell_type": "code",
   "execution_count": 5,
   "metadata": {},
   "outputs": [
    {
     "data": {
      "image/png": "[encoded data removed]",
      "text/plain": [
       "<Figure size 432x288 with 1 Axes>"
      ]
     },
     "metadata": {
      "needs_background": "light"
     },
     "output_type": "display_data"
    }
   ],
   "source": [
    "index = 334\n",
    "plt.imshow(X_train_orig[index]) #display sample training image\n",
    "plt.show()"
   ]
  },
  {
   "cell_type": "markdown",
   "metadata": {},
   "source": [
    "<a name='2'></a>\n",
    "## 2 - Layers in TF Keras \n",
    "\n",
    "In the previous assignment, you created layers manually in numpy. In TF Keras, you don't have to write code directly to create layers. Rather, TF Keras has pre-defined layers you can use. \n",
    "\n",
    "When you create a layer in TF Keras, you are creating a function that takes some input and transforms it into an output you can reuse later. Nice and easy! "
   ]
  },
  {
   "cell_type": "markdown",
   "metadata": {},
   "source": [
    "<a name='3'></a>\n",
    "## 3 - The Sequential API\n",
    "\n",
    "In the previous assignment, you built helper functions using `numpy` to understand the mechanics behind convolutional neural networks. Most practical applications of deep learning today are built using programming frameworks, which have many built-in functions you can simply call. Keras is a high-level abstraction built on top of TensorFlow, which allows for even more simplified and optimized model creation and training. \n",
    "\n",
    "For the first part of this assignment, you'll create a model using TF Keras' Sequential API, which allows you to build layer by layer, and is ideal for building models where each layer has **exactly one** input tensor and **one** output tensor. \n",
    "\n",
    "As you'll see, using the Sequential API is simple and straightforward, but is only appropriate for simpler, more straightforward tasks. Later in this notebook you'll spend some time building with a more flexible, powerful alternative: the Functional API. \n",
    " "
   ]
  },
  {
   "cell_type": "markdown",
   "metadata": {},
   "source": [
    "<a name='3-1'></a>\n",
    "### 3.1 - Create the Sequential Model\n",
    "\n",
    "As mentioned earlier, the TensorFlow Keras Sequential API can be used to build simple models with layer operations that proceed in a sequential order. \n",
    "\n",
    "You can also add layers incrementally to a Sequential model with the `.add()` method, or remove them using the `.pop()` method, much like you would in a regular Python list.\n",
    "\n",
    "Actually, you can think of a Sequential model as behaving like a list of layers. Like Python lists, Sequential layers are ordered, and the order in which they are specified matters.  If your model is non-linear or contains layers with multiple inputs or outputs, a Sequential model wouldn't be the right choice!\n",
    "\n",
    "For any layer construction in Keras, you'll need to specify the input shape in advance. This is because in Keras, the shape of the weights is based on the shape of the inputs. The weights are only created when the model first sees some input data. Sequential models can be created by passing a list of layers to the Sequential constructor, like you will do in the next assignment.\n",
    "\n",
    "<a name='ex-1'></a>\n",
    "### Exercise 1 - happyModel\n",
    "\n",
    "Implement the `happyModel` function below to build the following model: `ZEROPAD2D -> CONV2D -> BATCHNORM -> RELU -> MAXPOOL -> FLATTEN -> DENSE`. Take help from [tf.keras.layers](https://www.tensorflow.org/api_docs/python/tf/keras/layers) \n",
    "\n",
    "Also, plug in the following parameters for all the steps:\n",
    "\n",
    " - [ZeroPadding2D](https://www.tensorflow.org/api_docs/python/tf/keras/layers/ZeroPadding2D): padding 3, input shape 64 x 64 x 3\n",
    " - [Conv2D](https://www.tensorflow.org/api_docs/python/tf/keras/layers/Conv2D): Use 32 7x7 filters, stride 1\n",
    " - [BatchNormalization](https://www.tensorflow.org/api_docs/python/tf/keras/layers/BatchNormalization): for axis 3\n",
    " - [ReLU](https://www.tensorflow.org/api_docs/python/tf/keras/layers/ReLU)\n",
    " - [MaxPool2D](https://www.tensorflow.org/api_docs/python/tf/keras/layers/MaxPool2D): Using default parameters\n",
    " - [Flatten](https://www.tensorflow.org/api_docs/python/tf/keras/layers/Flatten) the previous output.\n",
    " - Fully-connected ([Dense](https://www.tensorflow.org/api_docs/python/tf/keras/layers/Dense)) layer: Apply a fully connected layer with 1 neuron and a sigmoid activation. \n",
    " \n",
    " \n",
    " **Hint:**\n",
    " \n",
    " Use **tfl** as shorthand for **tensorflow.keras.layers**"
   ]
  },
  {
   "cell_type": "code",
   "execution_count": 6,
   "metadata": {
    "deletable": false,
    "nbgrader": {
     "cell_type": "code",
     "checksum": "95d28b191f257bdd5b70c7b8952559d5",
     "grade": false,
     "grade_id": "cell-0e56d3fc28b69aec",
     "locked": false,
     "schema_version": 3,
     "solution": true,
     "task": false
    }
   },
   "outputs": [],
   "source": [
    "# GRADED FUNCTION: happyModel\n",
    "\n",
    "def happyModel():\n",
    "    \"\"\"\n",
    "    Implements the forward propagation for the binary classification model:\n",
    "    ZEROPAD2D -> CONV2D -> BATCHNORM -> RELU -> MAXPOOL -> FLATTEN -> DENSE\n",
    "    \n",
    "    Note that for simplicity and grading purposes, you'll hard-code all the values\n",
    "    such as the stride and kernel (filter) sizes. \n",
    "    Normally, functions should take these values as function parameters.\n",
    "    \n",
    "    Arguments:\n",
    "    None\n",
    "\n",
    "    Returns:\n",
    "    model -- TF Keras model (object containing the information for the entire training process) \n",
    "    \"\"\"\n",
    "    \n",
    "    # YOUR CODE STARTS HERE\n",
    "    model = tf.keras.Sequential([\n",
    "            ## ZeroPadding2D with padding 3, input shape of 64 x 64 x 3\n",
    "            tf.keras.layers.InputLayer(input_shape=(64,64,3)),\n",
    "            tf.keras.layers.ZeroPadding2D(padding=(3, 3)),\n",
    "            ## Conv2D with 32 7x7 filters and stride of 1\n",
    "            tf.keras.layers.Conv2D(filters=32, kernel_size=[7,7], strides=(1, 1)),\n",
    "            ## BatchNormalization for axis 3\n",
    "            tf.keras.layers.BatchNormalization(axis=3),\n",
    "            ## ReLU\n",
    "            tf.keras.layers.ReLU(),\n",
    "            ## Max Pooling 2D with default parameters\n",
    "            tf.keras.layers.MaxPooling2D(),\n",
    "            ## Flatten layer\n",
    "            tf.keras.layers.Flatten(),\n",
    "            ## Dense layer with 1 unit for output & 'sigmoid' activation\n",
    "            tf.keras.layers.Dense(1, activation = tf.nn.sigmoid)\n",
    "    ])\n",
    "    \n",
    "            # YOUR CODE ENDS HERE\n",
    "        \n",
    "    \n",
    "    return model"
   ]
  },
  {
   "cell_type": "code",
   "execution_count": 7,
   "metadata": {
    "deletable": false,
    "editable": false,
    "nbgrader": {
     "cell_type": "code",
     "checksum": "8d3575c950e2e78149be2d05d671c80d",
     "grade": true,
     "grade_id": "cell-e3e1046e5c33d775",
     "locked": true,
     "points": 10,
     "schema_version": 3,
     "solution": false,
     "task": false
    }
   },
   "outputs": [
    {
     "name": "stdout",
     "output_type": "stream",
     "text": [
      "['ZeroPadding2D', (None, 70, 70, 3), 0, ((3, 3), (3, 3))]\n",
      "['Conv2D', (None, 64, 64, 32), 4736, 'valid', 'linear', 'GlorotUniform']\n",
      "['BatchNormalization', (None, 64, 64, 32), 128]\n",
      "['ReLU', (None, 64, 64, 32), 0]\n",
      "['MaxPooling2D', (None, 32, 32, 32), 0, (2, 2), (2, 2), 'valid']\n",
      "['Flatten', (None, 32768), 0]\n",
      "['Dense', (None, 1), 32769, 'sigmoid']\n",
      "\u001b[32mAll tests passed!\u001b[0m\n"
     ]
    }
   ],
   "source": [
    "happy_model = happyModel()\n",
    "# Print a summary for each layer\n",
    "for layer in summary(happy_model):\n",
    "    print(layer)\n",
    "    \n",
    "output = [['ZeroPadding2D', (None, 70, 70, 3), 0, ((3, 3), (3, 3))],\n",
    "            ['Conv2D', (None, 64, 64, 32), 4736, 'valid', 'linear', 'GlorotUniform'],\n",
    "            ['BatchNormalization', (None, 64, 64, 32), 128],\n",
    "            ['ReLU', (None, 64, 64, 32), 0],\n",
    "            ['MaxPooling2D', (None, 32, 32, 32), 0, (2, 2), (2, 2), 'valid'],\n",
    "            ['Flatten', (None, 32768), 0],\n",
    "            ['Dense', (None, 1), 32769, 'sigmoid']]\n",
    "    \n",
    "comparator(summary(happy_model), output)"
   ]
  },
  {
   "cell_type": "markdown",
   "metadata": {},
   "source": [
    "Now that your model is created, you can compile it for training with an optimizer and loss of your choice. When the string `accuracy` is specified as a metric, the type of accuracy used will be automatically converted based on the loss function used. This is one of the many optimizations built into TensorFlow that make your life easier! If you'd like to read more on how the compiler operates, check the docs [here](https://www.tensorflow.org/api_docs/python/tf/keras/Model#compile)."
   ]
  },
  {
   "cell_type": "code",
   "execution_count": 8,
   "metadata": {},
   "outputs": [],
   "source": [
    "happy_model.compile(optimizer='adam',\n",
    "                   loss='binary_crossentropy',\n",
    "                   metrics=['accuracy'])"
   ]
  },
  {
   "cell_type": "markdown",
   "metadata": {},
   "source": [
    "It's time to check your model's parameters with the `.summary()` method. This will display the types of layers you have, the shape of the outputs, and how many parameters are in each layer. "
   ]
  },
  {
   "cell_type": "code",
   "execution_count": 9,
   "metadata": {},
   "outputs": [
    {
     "name": "stdout",
     "output_type": "stream",
     "text": [
      "Model: \"sequential\"\n",
      "_________________________________________________________________\n",
      "Layer (type)                 Output Shape              Param #   \n",
      "=================================================================\n",
      "zero_padding2d (ZeroPadding2 (None, 70, 70, 3)         0         \n",
      "_________________________________________________________________\n",
      "conv2d (Conv2D)              (None, 64, 64, 32)        4736      \n",
      "_________________________________________________________________\n",
      "batch_normalization (BatchNo (None, 64, 64, 32)        128       \n",
      "_________________________________________________________________\n",
      "re_lu (ReLU)                 (None, 64, 64, 32)        0         \n",
      "_________________________________________________________________\n",
      "max_pooling2d (MaxPooling2D) (None, 32, 32, 32)        0         \n",
      "_________________________________________________________________\n",
      "flatten (Flatten)            (None, 32768)             0         \n",
      "_________________________________________________________________\n",
      "dense (Dense)                (None, 1)                 32769     \n",
      "=================================================================\n",
      "Total params: 37,633\n",
      "Trainable params: 37,569\n",
      "Non-trainable params: 64\n",
      "_________________________________________________________________\n"
     ]
    }
   ],
   "source": [
    "happy_model.summary()"
   ]
  },
  {
   "cell_type": "markdown",
   "metadata": {},
   "source": [
    "<a name='3-2'></a>\n",
    "### 3.2 - Train and Evaluate the Model\n",
    "\n",
    "After creating the model, compiling it with your choice of optimizer and loss function, and doing a sanity check on its contents, you are now ready to build! \n",
    "\n",
    "Simply call `.fit()` to train. That's it! No need for mini-batching, saving, or complex backpropagation computations. That's all been done for you, as you're using a TensorFlow dataset with the batches specified already. You do have the option to specify epoch number or minibatch size if you like (for example, in the case of an un-batched dataset)."
   ]
  },
  {
   "cell_type": "code",
   "execution_count": 10,
   "metadata": {},
   "outputs": [
    {
     "name": "stdout",
     "output_type": "stream",
     "text": [
      "Epoch 1/10\n",
      "38/38 [==============================] - 4s 95ms/step - loss: 0.7851 - accuracy: 0.7883\n",
      "Epoch 2/10\n",
      "38/38 [==============================] - 3s 90ms/step - loss: 0.2505 - accuracy: 0.9067\n",
      "Epoch 3/10\n",
      "38/38 [==============================] - 3s 89ms/step - loss: 0.1681 - accuracy: 0.9300\n",
      "Epoch 4/10\n",
      "38/38 [==============================] - 3s 90ms/step - loss: 0.1290 - accuracy: 0.9617\n",
      "Epoch 5/10\n",
      "38/38 [==============================] - 3s 92ms/step - loss: 0.1287 - accuracy: 0.9533\n",
      "Epoch 6/10\n",
      "38/38 [==============================] - 3s 90ms/step - loss: 0.1085 - accuracy: 0.9550\n",
      "Epoch 7/10\n",
      "38/38 [==============================] - 4s 92ms/step - loss: 0.0792 - accuracy: 0.9750\n",
      "Epoch 8/10\n",
      "38/38 [==============================] - 3s 90ms/step - loss: 0.1274 - accuracy: 0.9617\n",
      "Epoch 9/10\n",
      "38/38 [==============================] - 3s 90ms/step - loss: 0.1802 - accuracy: 0.9433\n",
      "Epoch 10/10\n",
      "38/38 [==============================] - 3s 92ms/step - loss: 0.0872 - accuracy: 0.9717\n"
     ]
    },
    {
     "data": {
      "text/plain": [
       "<tensorflow.python.keras.callbacks.History at 0x7f7b793a8a10>"
      ]
     },
     "execution_count": 10,
     "metadata": {},
     "output_type": "execute_result"
    }
   ],
   "source": [
    "happy_model.fit(X_train, Y_train, epochs=10, batch_size=16)"
   ]
  },
  {
   "cell_type": "markdown",
   "metadata": {},
   "source": [
    "After that completes, just use `.evaluate()` to evaluate against your test set. This function will print the value of the loss function and the performance metrics specified during the compilation of the model. In this case, the `binary_crossentropy` and the `accuracy` respectively."
   ]
  },
  {
   "cell_type": "code",
   "execution_count": 11,
   "metadata": {},
   "outputs": [
    {
     "name": "stdout",
     "output_type": "stream",
     "text": [
      "5/5 [==============================] - 0s 31ms/step - loss: 0.1998 - accuracy: 0.9267\n"
     ]
    },
    {
     "data": {
      "text/plain": [
       "[0.1998053342103958, 0.9266666769981384]"
      ]
     },
     "execution_count": 11,
     "metadata": {},
     "output_type": "execute_result"
    }
   ],
   "source": [
    "happy_model.evaluate(X_test, Y_test)"
   ]
  },
  {
   "cell_type": "markdown",
   "metadata": {},
   "source": [
    "Easy, right? But what if you need to build a model with shared layers, branches, or multiple inputs and outputs? This is where Sequential, with its beautifully simple yet limited functionality, won't be able to help you. \n",
    "\n",
    "Next up: Enter the Functional API, your slightly more complex, highly flexible friend.  "
   ]
  },
  {
   "cell_type": "markdown",
   "metadata": {},
   "source": [
    "<a name='4'></a>\n",
    "## 4 - The Functional API"
   ]
  },
  {
   "cell_type": "markdown",
   "metadata": {},
   "source": [
    "Welcome to the second half of the assignment, where you'll use Keras' flexible [Functional API](https://www.tensorflow.org/guide/keras/functional) to build a ConvNet that can differentiate between 6 sign language digits. \n",
    "\n",
    "The Functional API can handle models with non-linear topology, shared layers, as well as layers with multiple inputs or outputs. Imagine that, where the Sequential API requires the model to move in a linear fashion through its layers, the Functional API allows much more flexibility. Where Sequential is a straight line, a Functional model is a graph, where the nodes of the layers can connect in many more ways than one. \n",
    "\n",
    "In the visual example below, the one possible direction of the movement Sequential model is shown in contrast to a skip connection, which is just one of the many ways a Functional model can be constructed. A skip connection, as you might have guessed, skips some layer in the network and feeds the output to a later layer in the network. Don't worry, you'll be spending more time with skip connections very soon! "
   ]
  },
  {
   "cell_type": "markdown",
   "metadata": {},
   "source": [
    "<img src=\"images/seq_vs_func.png\" style=\"width:350px;height:200px;\">"
   ]
  },
  {
   "cell_type": "markdown",
   "metadata": {},
   "source": [
    "<a name='4-1'></a>\n",
    "### 4.1 - Load the SIGNS Dataset\n",
    "\n",
    "As a reminder, the SIGNS dataset is a collection of 6 signs representing numbers from 0 to 5."
   ]
  },
  {
   "cell_type": "code",
   "execution_count": 12,
   "metadata": {},
   "outputs": [],
   "source": [
    "# Loading the data (signs)\n",
    "X_train_orig, Y_train_orig, X_test_orig, Y_test_orig, classes = load_signs_dataset()"
   ]
  },
  {
   "cell_type": "markdown",
   "metadata": {},
   "source": [
    "<img src=\"images/SIGNS.png\" style=\"width:800px;height:300px;\">\n",
    "\n",
    "The next cell will show you an example of a labelled image in the dataset. Feel free to change the value of `index` below and re-run to see different examples. "
   ]
  },
  {
   "cell_type": "code",
   "execution_count": 13,
   "metadata": {},
   "outputs": [
    {
     "name": "stdout",
     "output_type": "stream",
     "text": [
      "y = 4\n"
     ]
    },
    {
     "data": {
      "image/png": "[encoded data removed]",
      "text/plain": [
       "<Figure size 432x288 with 1 Axes>"
      ]
     },
     "metadata": {
      "needs_background": "light"
     },
     "output_type": "display_data"
    }
   ],
   "source": [
    "# Example of an image from the dataset\n",
    "index = 9\n",
    "plt.imshow(X_train_orig[index])\n",
    "print (\"y = \" + str(np.squeeze(Y_train_orig[:, index])))"
   ]
  },
  {
   "cell_type": "markdown",
   "metadata": {},
   "source": [
    "<a name='4-2'></a>\n",
    "### 4.2 - Split the Data into Train/Test Sets\n",
    "\n",
    "In Course 2, you built a fully-connected network for this dataset. But since this is an image dataset, it is more natural to apply a ConvNet to it.\n",
    "\n",
    "To get started, let's examine the shapes of your data. "
   ]
  },
  {
   "cell_type": "code",
   "execution_count": 14,
   "metadata": {},
   "outputs": [
    {
     "name": "stdout",
     "output_type": "stream",
     "text": [
      "number of training examples = 1080\n",
      "number of test examples = 120\n",
      "X_train shape: (1080, 64, 64, 3)\n",
      "Y_train shape: (1080, 6)\n",
      "X_test shape: (120, 64, 64, 3)\n",
      "Y_test shape: (120, 6)\n"
     ]
    }
   ],
   "source": [
    "X_train = X_train_orig/255.\n",
    "X_test = X_test_orig/255.\n",
    "Y_train = convert_to_one_hot(Y_train_orig, 6).T\n",
    "Y_test = convert_to_one_hot(Y_test_orig, 6).T\n",
    "print (\"number of training examples = \" + str(X_train.shape[0]))\n",
    "print (\"number of test examples = \" + str(X_test.shape[0]))\n",
    "print (\"X_train shape: \" + str(X_train.shape))\n",
    "print (\"Y_train shape: \" + str(Y_train.shape))\n",
    "print (\"X_test shape: \" + str(X_test.shape))\n",
    "print (\"Y_test shape: \" + str(Y_test.shape))"
   ]
  },
  {
   "cell_type": "markdown",
   "metadata": {},
   "source": [
    "<a name='4-3'></a>\n",
    "### 4.3 - Forward Propagation\n",
    "\n",
    "In TensorFlow, there are built-in functions that implement the convolution steps for you. By now, you should be familiar with how TensorFlow builds computational graphs. In the [Functional API](https://www.tensorflow.org/guide/keras/functional), you create a graph of layers. This is what allows such great flexibility.\n",
    "\n",
    "However, the following model could also be defined using the Sequential API since the information flow is on a single line. But don't deviate. What we want you to learn is to use the functional API.\n",
    "\n",
    "Begin building your graph of layers by creating an input node that functions as a callable object:\n",
    "\n",
    "- **input_img = tf.keras.Input(shape=input_shape):** \n",
    "\n",
    "Then, create a new node in the graph of layers by calling a layer on the `input_img` object: \n",
    "\n",
    "- **tf.keras.layers.Conv2D(filters= ... , kernel_size= ... , padding='same')(input_img):** Read the full documentation on [Conv2D](https://www.tensorflow.org/api_docs/python/tf/keras/layers/Conv2D).\n",
    "\n",
    "- **tf.keras.layers.MaxPool2D(pool_size=(f, f), strides=(s, s), padding='same'):** `MaxPool2D()` downsamples your input using a window of size (f, f) and strides of size (s, s) to carry out max pooling over each window.  For max pooling, you usually operate on a single example at a time and a single channel at a time. Read the full documentation on [MaxPool2D](https://www.tensorflow.org/api_docs/python/tf/keras/layers/MaxPool2D).\n",
    "\n",
    "- **tf.keras.layers.ReLU():** computes the elementwise ReLU of Z (which can be any shape). You can read the full documentation on [ReLU](https://www.tensorflow.org/api_docs/python/tf/keras/layers/ReLU).\n",
    "\n",
    "- **tf.keras.layers.Flatten()**: given a tensor \"P\", this function takes each training (or test) example in the batch and flattens it into a 1D vector.  \n",
    "\n",
    "    * If a tensor P has the shape (batch_size,h,w,c), it returns a flattened tensor with shape (batch_size, k), where $k=h \\times w \\times c$.  \"k\" equals the product of all the dimension sizes other than the first dimension.\n",
    "    \n",
    "    * For example, given a tensor with dimensions [100, 2, 3, 4], it flattens the tensor to be of shape [100, 24], where 24 = 2 * 3 * 4.  You can read the full documentation on [Flatten](https://www.tensorflow.org/api_docs/python/tf/keras/layers/Flatten).\n",
    "\n",
    "- **tf.keras.layers.Dense(units= ... , activation='softmax')(F):** given the flattened input F, it returns the output computed using a fully connected layer. You can read the full documentation on [Dense](https://www.tensorflow.org/api_docs/python/tf/keras/layers/Dense).\n",
    "\n",
    "In the last function above (`tf.keras.layers.Dense()`), the fully connected layer automatically initializes weights in the graph and keeps on training them as you train the model. Hence, you did not need to initialize those weights when initializing the parameters.\n",
    "\n",
    "Lastly, before creating the model, you'll need to define the output using the last of the function's compositions (in this example, a Dense layer): \n",
    "\n",
    "- **outputs = tf.keras.layers.Dense(units=6, activation='softmax')(F)**\n",
    "\n",
    "\n",
    "#### Window, kernel, filter, pool\n",
    "\n",
    "The words \"kernel\" and \"filter\" are used to refer to the same thing. The word \"filter\" accounts for the amount of \"kernels\" that will be used in a single convolution layer. \"Pool\" is the name of the operation that takes the max or average value of the kernels. \n",
    "\n",
    "This is why the parameter `pool_size` refers to `kernel_size`, and you use `(f,f)` to refer to the filter size. \n",
    "\n",
    "Pool size and kernel size refer to the same thing in different objects - They refer to the shape of the window where the operation takes place. "
   ]
  },
  {
   "cell_type": "markdown",
   "metadata": {},
   "source": [
    "<a name='ex-2'></a>\n",
    "### Exercise 2 - convolutional_model\n",
    "\n",
    "Implement the `convolutional_model` function below to build the following model: `CONV2D -> RELU -> MAXPOOL -> CONV2D -> RELU -> MAXPOOL -> FLATTEN -> DENSE`. Use the functions above! \n",
    "\n",
    "Also, plug in the following parameters for all the steps:\n",
    "\n",
    " - [Conv2D](https://www.tensorflow.org/api_docs/python/tf/keras/layers/Conv2D): Use 8 4 by 4 filters, stride 1, padding is \"SAME\"\n",
    " - [ReLU](https://www.tensorflow.org/api_docs/python/tf/keras/layers/ReLU)\n",
    " - [MaxPool2D](https://www.tensorflow.org/api_docs/python/tf/keras/layers/MaxPool2D): Use an 8 by 8 filter size and an 8 by 8 stride, padding is \"SAME\"\n",
    " - **Conv2D**: Use 16 2 by 2 filters, stride 1, padding is \"SAME\"\n",
    " - **ReLU**\n",
    " - **MaxPool2D**: Use a 4 by 4 filter size and a 4 by 4 stride, padding is \"SAME\"\n",
    " - [Flatten](https://www.tensorflow.org/api_docs/python/tf/keras/layers/Flatten) the previous output.\n",
    " - Fully-connected ([Dense](https://www.tensorflow.org/api_docs/python/tf/keras/layers/Dense)) layer: Apply a fully connected layer with 6 neurons and a softmax activation. "
   ]
  },
  {
   "cell_type": "code",
   "execution_count": 17,
   "metadata": {
    "deletable": false,
    "nbgrader": {
     "cell_type": "code",
     "checksum": "f58643806aa8380c96225fc8b4c5e7aa",
     "grade": false,
     "grade_id": "cell-dac51744a9e03f51",
     "locked": false,
     "schema_version": 3,
     "solution": true,
     "task": false
    }
   },
   "outputs": [],
   "source": [
    "# GRADED FUNCTION: convolutional_model\n",
    "\n",
    "def convolutional_model(input_shape):\n",
    "    \"\"\"\n",
    "    Implements the forward propagation for the model:\n",
    "    CONV2D -> RELU -> MAXPOOL -> CONV2D -> RELU -> MAXPOOL -> FLATTEN -> DENSE\n",
    "    \n",
    "    Note that for simplicity and grading purposes, you'll hard-code some values\n",
    "    such as the stride and kernel (filter) sizes. \n",
    "    Normally, functions should take these values as function parameters.\n",
    "    \n",
    "    Arguments:\n",
    "    input_img -- input dataset, of shape (input_shape)\n",
    "\n",
    "    Returns:\n",
    "    model -- TF Keras model (object containing the information for the entire training process) \n",
    "    \"\"\"\n",
    "\n",
    "    input_img = tf.keras.Input(shape=input_shape)\n",
    "    \n",
    "    # YOUR CODE STARTS HERE\n",
    "    ## CONV2D: 8 filters 4x4, stride of 1, padding 'SAME'\n",
    "    Z1 = tf.keras.layers.Conv2D(filters=8 , kernel_size= [4,4] , padding='same')(input_img)\n",
    "    ## RELU\n",
    "    A1 = tf.keras.layers.ReLU()(Z1)\n",
    "    ## MAXPOOL: window 8x8, stride 8, padding 'SAME'\n",
    "    P1 = tf.keras.layers.MaxPool2D(pool_size=(8, 8), strides=(8, 8), padding='same')(A1)\n",
    "    ## CONV2D: 16 filters 2x2, stride 1, padding 'SAME'\n",
    "    Z2 = tf.keras.layers.Conv2D(filters=16 , kernel_size= [2,2] , padding='same')(P1)\n",
    "    ## RELU\n",
    "    A2 = tf.keras.layers.ReLU()(Z2)\n",
    "    ## MAXPOOL: window 4x4, stride 4, padding 'SAME'\n",
    "    P2 = tf.keras.layers.MaxPool2D(pool_size=(4, 4), strides=(4, 4), padding='same')(A2)\n",
    "    ## FLATTEN\n",
    "    F = tf.keras.layers.Flatten()(P2)\n",
    "    ## Dense layer\n",
    "    ## 6 neurons in output layer. Hint: one of the arguments should be \"activation='softmax'\" \n",
    "    outputs = tf.keras.layers.Dense(units=6, activation='softmax')(F)\n",
    "    # YOUR CODE ENDS HERE\n",
    "    \n",
    "    model = tf.keras.Model(inputs=input_img, outputs=outputs)\n",
    "    return model"
   ]
  },
  {
   "cell_type": "code",
   "execution_count": 18,
   "metadata": {
    "deletable": false,
    "editable": false,
    "nbgrader": {
     "cell_type": "code",
     "checksum": "483d626949930a0b0ef20997e7c6ba72",
     "grade": true,
     "grade_id": "cell-45d22e92042174c9",
     "locked": true,
     "points": 10,
     "schema_version": 3,
     "solution": false,
     "task": false
    }
   },
   "outputs": [
    {
     "name": "stdout",
     "output_type": "stream",
     "text": [
      "Model: \"functional_1\"\n",
      "_________________________________________________________________\n",
      "Layer (type)                 Output Shape              Param #   \n",
      "=================================================================\n",
      "input_3 (InputLayer)         [(None, 64, 64, 3)]       0         \n",
      "_________________________________________________________________\n",
      "conv2d_3 (Conv2D)            (None, 64, 64, 8)         392       \n",
      "_________________________________________________________________\n",
      "re_lu_2 (ReLU)               (None, 64, 64, 8)         0         \n",
      "_________________________________________________________________\n",
      "max_pooling2d_2 (MaxPooling2 (None, 8, 8, 8)           0         \n",
      "_________________________________________________________________\n",
      "conv2d_4 (Conv2D)            (None, 8, 8, 16)          528       \n",
      "_________________________________________________________________\n",
      "re_lu_3 (ReLU)               (None, 8, 8, 16)          0         \n",
      "_________________________________________________________________\n",
      "max_pooling2d_3 (MaxPooling2 (None, 2, 2, 16)          0         \n",
      "_________________________________________________________________\n",
      "flatten_1 (Flatten)          (None, 64)                0         \n",
      "_________________________________________________________________\n",
      "dense_1 (Dense)              (None, 6)                 390       \n",
      "=================================================================\n",
      "Total params: 1,310\n",
      "Trainable params: 1,310\n",
      "Non-trainable params: 0\n",
      "_________________________________________________________________\n",
      "\u001b[32mAll tests passed!\u001b[0m\n"
     ]
    }
   ],
   "source": [
    "conv_model = convolutional_model((64, 64, 3))\n",
    "conv_model.compile(optimizer='adam',\n",
    "                  loss='categorical_crossentropy',\n",
    "                  metrics=['accuracy'])\n",
    "conv_model.summary()\n",
    "    \n",
    "output = [['InputLayer', [(None, 64, 64, 3)], 0],\n",
    "        ['Conv2D', (None, 64, 64, 8), 392, 'same', 'linear', 'GlorotUniform'],\n",
    "        ['ReLU', (None, 64, 64, 8), 0],\n",
    "        ['MaxPooling2D', (None, 8, 8, 8), 0, (8, 8), (8, 8), 'same'],\n",
    "        ['Conv2D', (None, 8, 8, 16), 528, 'same', 'linear', 'GlorotUniform'],\n",
    "        ['ReLU', (None, 8, 8, 16), 0],\n",
    "        ['MaxPooling2D', (None, 2, 2, 16), 0, (4, 4), (4, 4), 'same'],\n",
    "        ['Flatten', (None, 64), 0],\n",
    "        ['Dense', (None, 6), 390, 'softmax']]\n",
    "    \n",
    "comparator(summary(conv_model), output)"
   ]
  },
  {
   "cell_type": "markdown",
   "metadata": {},
   "source": [
    "Both the Sequential and Functional APIs return a TF Keras model object. The only difference is how inputs are handled inside the object model! "
   ]
  },
  {
   "cell_type": "markdown",
   "metadata": {},
   "source": [
    "<a name='4-4'></a>\n",
    "### 4.4 - Train the Model"
   ]
  },
  {
   "cell_type": "code",
   "execution_count": 19,
   "metadata": {},
   "outputs": [
    {
     "name": "stdout",
     "output_type": "stream",
     "text": [
      "Epoch 1/100\n",
      "17/17 [==============================] - 2s 96ms/step - loss: 1.8035 - accuracy: 0.1685 - val_loss: 1.7896 - val_accuracy: 0.1917\n",
      "Epoch 2/100\n",
      "17/17 [==============================] - 2s 100ms/step - loss: 1.7882 - accuracy: 0.2083 - val_loss: 1.7868 - val_accuracy: 0.1750\n",
      "Epoch 3/100\n",
      "17/17 [==============================] - 2s 100ms/step - loss: 1.7852 - accuracy: 0.1676 - val_loss: 1.7836 - val_accuracy: 0.1583\n",
      "Epoch 4/100\n",
      "17/17 [==============================] - 2s 100ms/step - loss: 1.7815 - accuracy: 0.2019 - val_loss: 1.7806 - val_accuracy: 0.2583\n",
      "Epoch 5/100\n",
      "17/17 [==============================] - 2s 100ms/step - loss: 1.7776 - accuracy: 0.2426 - val_loss: 1.7762 - val_accuracy: 0.2500\n",
      "Epoch 6/100\n",
      "17/17 [==============================] - 2s 100ms/step - loss: 1.7731 - accuracy: 0.2759 - val_loss: 1.7716 - val_accuracy: 0.2583\n",
      "Epoch 7/100\n",
      "17/17 [==============================] - 2s 95ms/step - loss: 1.7675 - accuracy: 0.3037 - val_loss: 1.7650 - val_accuracy: 0.3250\n",
      "Epoch 8/100\n",
      "17/17 [==============================] - 2s 100ms/step - loss: 1.7611 - accuracy: 0.3102 - val_loss: 1.7585 - val_accuracy: 0.3500\n",
      "Epoch 9/100\n",
      "17/17 [==============================] - 2s 100ms/step - loss: 1.7536 - accuracy: 0.3222 - val_loss: 1.7501 - val_accuracy: 0.3583\n",
      "Epoch 10/100\n",
      "17/17 [==============================] - 2s 100ms/step - loss: 1.7439 - accuracy: 0.3491 - val_loss: 1.7382 - val_accuracy: 0.3500\n",
      "Epoch 11/100\n",
      "17/17 [==============================] - 2s 100ms/step - loss: 1.7310 - accuracy: 0.3667 - val_loss: 1.7218 - val_accuracy: 0.4000\n",
      "Epoch 12/100\n",
      "17/17 [==============================] - 2s 100ms/step - loss: 1.7117 - accuracy: 0.4019 - val_loss: 1.7018 - val_accuracy: 0.4250\n",
      "Epoch 13/100\n",
      "17/17 [==============================] - 2s 100ms/step - loss: 1.6882 - accuracy: 0.4454 - val_loss: 1.6791 - val_accuracy: 0.4500\n",
      "Epoch 14/100\n",
      "17/17 [==============================] - 2s 100ms/step - loss: 1.6609 - accuracy: 0.4704 - val_loss: 1.6498 - val_accuracy: 0.4833\n",
      "Epoch 15/100\n",
      "17/17 [==============================] - 2s 99ms/step - loss: 1.6282 - accuracy: 0.4898 - val_loss: 1.6153 - val_accuracy: 0.4667\n",
      "Epoch 16/100\n",
      "17/17 [==============================] - 2s 100ms/step - loss: 1.5915 - accuracy: 0.4954 - val_loss: 1.5738 - val_accuracy: 0.5167\n",
      "Epoch 17/100\n",
      "17/17 [==============================] - 2s 100ms/step - loss: 1.5520 - accuracy: 0.5065 - val_loss: 1.5321 - val_accuracy: 0.4833\n",
      "Epoch 18/100\n",
      "17/17 [==============================] - 2s 100ms/step - loss: 1.5076 - accuracy: 0.5065 - val_loss: 1.4904 - val_accuracy: 0.5083\n",
      "Epoch 19/100\n",
      "17/17 [==============================] - 2s 100ms/step - loss: 1.4621 - accuracy: 0.5259 - val_loss: 1.4447 - val_accuracy: 0.4750\n",
      "Epoch 20/100\n",
      "17/17 [==============================] - 2s 99ms/step - loss: 1.4146 - accuracy: 0.5259 - val_loss: 1.3979 - val_accuracy: 0.5000\n",
      "Epoch 21/100\n",
      "17/17 [==============================] - 2s 100ms/step - loss: 1.3687 - accuracy: 0.5324 - val_loss: 1.3543 - val_accuracy: 0.5167\n",
      "Epoch 22/100\n",
      "17/17 [==============================] - 2s 100ms/step - loss: 1.3261 - accuracy: 0.5444 - val_loss: 1.3151 - val_accuracy: 0.5083\n",
      "Epoch 23/100\n",
      "17/17 [==============================] - 2s 100ms/step - loss: 1.2825 - accuracy: 0.5602 - val_loss: 1.2731 - val_accuracy: 0.5833\n",
      "Epoch 24/100\n",
      "17/17 [==============================] - 2s 100ms/step - loss: 1.2441 - accuracy: 0.5769 - val_loss: 1.2359 - val_accuracy: 0.5417\n",
      "Epoch 25/100\n",
      "17/17 [==============================] - 2s 100ms/step - loss: 1.2117 - accuracy: 0.5861 - val_loss: 1.2063 - val_accuracy: 0.5750\n",
      "Epoch 26/100\n",
      "17/17 [==============================] - 2s 99ms/step - loss: 1.1777 - accuracy: 0.5963 - val_loss: 1.1763 - val_accuracy: 0.6000\n",
      "Epoch 27/100\n",
      "17/17 [==============================] - 2s 100ms/step - loss: 1.1466 - accuracy: 0.6083 - val_loss: 1.1467 - val_accuracy: 0.6250\n",
      "Epoch 28/100\n",
      "17/17 [==============================] - 2s 95ms/step - loss: 1.1191 - accuracy: 0.6148 - val_loss: 1.1219 - val_accuracy: 0.6000\n",
      "Epoch 29/100\n",
      "17/17 [==============================] - 2s 101ms/step - loss: 1.0934 - accuracy: 0.6250 - val_loss: 1.1002 - val_accuracy: 0.6167\n",
      "Epoch 30/100\n",
      "17/17 [==============================] - 2s 101ms/step - loss: 1.0683 - accuracy: 0.6315 - val_loss: 1.0732 - val_accuracy: 0.6417\n",
      "Epoch 31/100\n",
      "17/17 [==============================] - 2s 100ms/step - loss: 1.0440 - accuracy: 0.6435 - val_loss: 1.0546 - val_accuracy: 0.6500\n",
      "Epoch 32/100\n",
      "17/17 [==============================] - 2s 100ms/step - loss: 1.0220 - accuracy: 0.6546 - val_loss: 1.0320 - val_accuracy: 0.6750\n",
      "Epoch 33/100\n",
      "17/17 [==============================] - 2s 100ms/step - loss: 1.0012 - accuracy: 0.6639 - val_loss: 1.0134 - val_accuracy: 0.6667\n",
      "Epoch 34/100\n",
      "17/17 [==============================] - 2s 100ms/step - loss: 0.9819 - accuracy: 0.6685 - val_loss: 0.9938 - val_accuracy: 0.7083\n",
      "Epoch 35/100\n",
      "17/17 [==============================] - 2s 100ms/step - loss: 0.9631 - accuracy: 0.6806 - val_loss: 0.9774 - val_accuracy: 0.7167\n",
      "Epoch 36/100\n",
      "17/17 [==============================] - 2s 100ms/step - loss: 0.9456 - accuracy: 0.6889 - val_loss: 0.9596 - val_accuracy: 0.7250\n",
      "Epoch 37/100\n",
      "17/17 [==============================] - 2s 100ms/step - loss: 0.9279 - accuracy: 0.6935 - val_loss: 0.9448 - val_accuracy: 0.7250\n",
      "Epoch 38/100\n",
      "17/17 [==============================] - 2s 100ms/step - loss: 0.9120 - accuracy: 0.6963 - val_loss: 0.9298 - val_accuracy: 0.7250\n",
      "Epoch 39/100\n",
      "17/17 [==============================] - 2s 100ms/step - loss: 0.8959 - accuracy: 0.7019 - val_loss: 0.9165 - val_accuracy: 0.7333\n",
      "Epoch 40/100\n",
      "17/17 [==============================] - 2s 96ms/step - loss: 0.8816 - accuracy: 0.7074 - val_loss: 0.9030 - val_accuracy: 0.7333\n",
      "Epoch 41/100\n",
      "17/17 [==============================] - 2s 100ms/step - loss: 0.8673 - accuracy: 0.7111 - val_loss: 0.8903 - val_accuracy: 0.7417\n",
      "Epoch 42/100\n",
      "17/17 [==============================] - 2s 100ms/step - loss: 0.8539 - accuracy: 0.7130 - val_loss: 0.8778 - val_accuracy: 0.7500\n",
      "Epoch 43/100\n",
      "17/17 [==============================] - 2s 94ms/step - loss: 0.8404 - accuracy: 0.7176 - val_loss: 0.8671 - val_accuracy: 0.7500\n",
      "Epoch 44/100\n",
      "17/17 [==============================] - 2s 96ms/step - loss: 0.8277 - accuracy: 0.7176 - val_loss: 0.8545 - val_accuracy: 0.7500\n",
      "Epoch 45/100\n",
      "17/17 [==============================] - 2s 95ms/step - loss: 0.8158 - accuracy: 0.7231 - val_loss: 0.8442 - val_accuracy: 0.7500\n",
      "Epoch 46/100\n",
      "17/17 [==============================] - 2s 100ms/step - loss: 0.8037 - accuracy: 0.7241 - val_loss: 0.8331 - val_accuracy: 0.7500\n",
      "Epoch 47/100\n",
      "17/17 [==============================] - 2s 100ms/step - loss: 0.7923 - accuracy: 0.7296 - val_loss: 0.8237 - val_accuracy: 0.7500\n",
      "Epoch 48/100\n",
      "17/17 [==============================] - 2s 100ms/step - loss: 0.7808 - accuracy: 0.7324 - val_loss: 0.8137 - val_accuracy: 0.7500\n",
      "Epoch 49/100\n",
      "17/17 [==============================] - 2s 100ms/step - loss: 0.7698 - accuracy: 0.7352 - val_loss: 0.8047 - val_accuracy: 0.7417\n",
      "Epoch 50/100\n",
      "17/17 [==============================] - 2s 95ms/step - loss: 0.7590 - accuracy: 0.7426 - val_loss: 0.7960 - val_accuracy: 0.7500\n",
      "Epoch 51/100\n",
      "17/17 [==============================] - 2s 100ms/step - loss: 0.7478 - accuracy: 0.7472 - val_loss: 0.7874 - val_accuracy: 0.7500\n",
      "Epoch 52/100\n",
      "17/17 [==============================] - 2s 100ms/step - loss: 0.7379 - accuracy: 0.7528 - val_loss: 0.7795 - val_accuracy: 0.7667\n",
      "Epoch 53/100\n",
      "17/17 [==============================] - 2s 100ms/step - loss: 0.7280 - accuracy: 0.7546 - val_loss: 0.7729 - val_accuracy: 0.7583\n",
      "Epoch 54/100\n",
      "17/17 [==============================] - 2s 101ms/step - loss: 0.7191 - accuracy: 0.7574 - val_loss: 0.7658 - val_accuracy: 0.7667\n",
      "Epoch 55/100\n",
      "17/17 [==============================] - 2s 100ms/step - loss: 0.7106 - accuracy: 0.7630 - val_loss: 0.7588 - val_accuracy: 0.7667\n",
      "Epoch 56/100\n",
      "17/17 [==============================] - 2s 100ms/step - loss: 0.7023 - accuracy: 0.7630 - val_loss: 0.7501 - val_accuracy: 0.7583\n",
      "Epoch 57/100\n",
      "17/17 [==============================] - 2s 100ms/step - loss: 0.6941 - accuracy: 0.7685 - val_loss: 0.7442 - val_accuracy: 0.7583\n",
      "Epoch 58/100\n",
      "17/17 [==============================] - 2s 100ms/step - loss: 0.6851 - accuracy: 0.7741 - val_loss: 0.7385 - val_accuracy: 0.7583\n",
      "Epoch 59/100\n",
      "17/17 [==============================] - 2s 100ms/step - loss: 0.6776 - accuracy: 0.7778 - val_loss: 0.7324 - val_accuracy: 0.7667\n",
      "Epoch 60/100\n",
      "17/17 [==============================] - 2s 99ms/step - loss: 0.6712 - accuracy: 0.7806 - val_loss: 0.7259 - val_accuracy: 0.7750\n",
      "Epoch 61/100\n",
      "17/17 [==============================] - 2s 100ms/step - loss: 0.6643 - accuracy: 0.7833 - val_loss: 0.7191 - val_accuracy: 0.7750\n",
      "Epoch 62/100\n",
      "17/17 [==============================] - 2s 95ms/step - loss: 0.6577 - accuracy: 0.7870 - val_loss: 0.7145 - val_accuracy: 0.7750\n",
      "Epoch 63/100\n",
      "17/17 [==============================] - 2s 100ms/step - loss: 0.6510 - accuracy: 0.7907 - val_loss: 0.7079 - val_accuracy: 0.7667\n",
      "Epoch 64/100\n",
      "17/17 [==============================] - 2s 100ms/step - loss: 0.6444 - accuracy: 0.7907 - val_loss: 0.7021 - val_accuracy: 0.7750\n",
      "Epoch 65/100\n",
      "17/17 [==============================] - 2s 100ms/step - loss: 0.6374 - accuracy: 0.7935 - val_loss: 0.6966 - val_accuracy: 0.7667\n",
      "Epoch 66/100\n",
      "17/17 [==============================] - 2s 100ms/step - loss: 0.6309 - accuracy: 0.7963 - val_loss: 0.6935 - val_accuracy: 0.7750\n",
      "Epoch 67/100\n",
      "17/17 [==============================] - 2s 99ms/step - loss: 0.6256 - accuracy: 0.7972 - val_loss: 0.6887 - val_accuracy: 0.7750\n",
      "Epoch 68/100\n",
      "17/17 [==============================] - 2s 100ms/step - loss: 0.6198 - accuracy: 0.8019 - val_loss: 0.6834 - val_accuracy: 0.7750\n",
      "Epoch 69/100\n",
      "17/17 [==============================] - 2s 100ms/step - loss: 0.6137 - accuracy: 0.8037 - val_loss: 0.6797 - val_accuracy: 0.7917\n",
      "Epoch 70/100\n",
      "17/17 [==============================] - 2s 100ms/step - loss: 0.6085 - accuracy: 0.8065 - val_loss: 0.6752 - val_accuracy: 0.7917\n",
      "Epoch 71/100\n",
      "17/17 [==============================] - 2s 100ms/step - loss: 0.6030 - accuracy: 0.8083 - val_loss: 0.6706 - val_accuracy: 0.7917\n",
      "Epoch 72/100\n",
      "17/17 [==============================] - 2s 100ms/step - loss: 0.5973 - accuracy: 0.8074 - val_loss: 0.6665 - val_accuracy: 0.7917\n",
      "Epoch 73/100\n",
      "17/17 [==============================] - 2s 96ms/step - loss: 0.5913 - accuracy: 0.8074 - val_loss: 0.6633 - val_accuracy: 0.8000\n",
      "Epoch 74/100\n",
      "17/17 [==============================] - 2s 94ms/step - loss: 0.5867 - accuracy: 0.8120 - val_loss: 0.6606 - val_accuracy: 0.8000\n",
      "Epoch 75/100\n",
      "17/17 [==============================] - 2s 95ms/step - loss: 0.5824 - accuracy: 0.8130 - val_loss: 0.6563 - val_accuracy: 0.8000\n",
      "Epoch 76/100\n",
      "17/17 [==============================] - 2s 94ms/step - loss: 0.5782 - accuracy: 0.8176 - val_loss: 0.6519 - val_accuracy: 0.8000\n",
      "Epoch 77/100\n",
      "17/17 [==============================] - 2s 95ms/step - loss: 0.5732 - accuracy: 0.8194 - val_loss: 0.6492 - val_accuracy: 0.8000\n",
      "Epoch 78/100\n",
      "17/17 [==============================] - 2s 96ms/step - loss: 0.5684 - accuracy: 0.8222 - val_loss: 0.6454 - val_accuracy: 0.8083\n",
      "Epoch 79/100\n",
      "17/17 [==============================] - 2s 96ms/step - loss: 0.5640 - accuracy: 0.8241 - val_loss: 0.6424 - val_accuracy: 0.8083\n",
      "Epoch 80/100\n",
      "17/17 [==============================] - 2s 100ms/step - loss: 0.5598 - accuracy: 0.8269 - val_loss: 0.6398 - val_accuracy: 0.8083\n",
      "Epoch 81/100\n",
      "17/17 [==============================] - 2s 95ms/step - loss: 0.5560 - accuracy: 0.8269 - val_loss: 0.6364 - val_accuracy: 0.8083\n",
      "Epoch 82/100\n",
      "17/17 [==============================] - 2s 100ms/step - loss: 0.5515 - accuracy: 0.8306 - val_loss: 0.6336 - val_accuracy: 0.8083\n",
      "Epoch 83/100\n",
      "17/17 [==============================] - 2s 100ms/step - loss: 0.5473 - accuracy: 0.8296 - val_loss: 0.6302 - val_accuracy: 0.8083\n",
      "Epoch 84/100\n",
      "17/17 [==============================] - 2s 99ms/step - loss: 0.5428 - accuracy: 0.8324 - val_loss: 0.6274 - val_accuracy: 0.8083\n",
      "Epoch 85/100\n",
      "17/17 [==============================] - 2s 100ms/step - loss: 0.5385 - accuracy: 0.8352 - val_loss: 0.6241 - val_accuracy: 0.8083\n",
      "Epoch 86/100\n",
      "17/17 [==============================] - 2s 101ms/step - loss: 0.5344 - accuracy: 0.8352 - val_loss: 0.6230 - val_accuracy: 0.8083\n",
      "Epoch 87/100\n",
      "17/17 [==============================] - 2s 100ms/step - loss: 0.5310 - accuracy: 0.8361 - val_loss: 0.6203 - val_accuracy: 0.8083\n",
      "Epoch 88/100\n",
      "17/17 [==============================] - 2s 100ms/step - loss: 0.5273 - accuracy: 0.8380 - val_loss: 0.6176 - val_accuracy: 0.8083\n",
      "Epoch 89/100\n",
      "17/17 [==============================] - 2s 100ms/step - loss: 0.5237 - accuracy: 0.8398 - val_loss: 0.6147 - val_accuracy: 0.8083\n",
      "Epoch 90/100\n",
      "17/17 [==============================] - 2s 95ms/step - loss: 0.5201 - accuracy: 0.8407 - val_loss: 0.6132 - val_accuracy: 0.8083\n",
      "Epoch 91/100\n",
      "17/17 [==============================] - 2s 99ms/step - loss: 0.5166 - accuracy: 0.8407 - val_loss: 0.6109 - val_accuracy: 0.8083\n",
      "Epoch 92/100\n",
      "17/17 [==============================] - 2s 100ms/step - loss: 0.5135 - accuracy: 0.8407 - val_loss: 0.6087 - val_accuracy: 0.8083\n",
      "Epoch 93/100\n",
      "17/17 [==============================] - 2s 100ms/step - loss: 0.5102 - accuracy: 0.8426 - val_loss: 0.6063 - val_accuracy: 0.8167\n",
      "Epoch 94/100\n",
      "17/17 [==============================] - 2s 100ms/step - loss: 0.5069 - accuracy: 0.8426 - val_loss: 0.6033 - val_accuracy: 0.8083\n",
      "Epoch 95/100\n",
      "17/17 [==============================] - 2s 95ms/step - loss: 0.5034 - accuracy: 0.8444 - val_loss: 0.6016 - val_accuracy: 0.8083\n",
      "Epoch 96/100\n",
      "17/17 [==============================] - 2s 100ms/step - loss: 0.5003 - accuracy: 0.8435 - val_loss: 0.5991 - val_accuracy: 0.8083\n",
      "Epoch 97/100\n",
      "17/17 [==============================] - 2s 100ms/step - loss: 0.4973 - accuracy: 0.8435 - val_loss: 0.5975 - val_accuracy: 0.8083\n",
      "Epoch 98/100\n",
      "17/17 [==============================] - 2s 94ms/step - loss: 0.4944 - accuracy: 0.8426 - val_loss: 0.5958 - val_accuracy: 0.8083\n",
      "Epoch 99/100\n",
      "17/17 [==============================] - 2s 95ms/step - loss: 0.4915 - accuracy: 0.8435 - val_loss: 0.5940 - val_accuracy: 0.8083\n",
      "Epoch 100/100\n",
      "17/17 [==============================] - 2s 95ms/step - loss: 0.4889 - accuracy: 0.8417 - val_loss: 0.5916 - val_accuracy: 0.8083\n"
     ]
    }
   ],
   "source": [
    "train_dataset = tf.data.Dataset.from_tensor_slices((X_train, Y_train)).batch(64)\n",
    "test_dataset = tf.data.Dataset.from_tensor_slices((X_test, Y_test)).batch(64)\n",
    "history = conv_model.fit(train_dataset, epochs=100, validation_data=test_dataset)"
   ]
  },
  {
   "cell_type": "markdown",
   "metadata": {},
   "source": [
    "<a name='5'></a>\n",
    "## 5 - History Object \n",
    "\n",
    "The history object is an output of the `.fit()` operation, and provides a record of all the loss and metric values in memory. It's stored as a dictionary that you can retrieve at `history.history`: "
   ]
  },
  {
   "cell_type": "code",
   "execution_count": 20,
   "metadata": {},
   "outputs": [
    {
     "data": {
      "text/plain": [
       "{'loss': [1.8034638166427612,\n",
       "  1.788231372833252,\n",
       "  1.7852437496185303,\n",
       "  1.7814992666244507,\n",
       "  1.777633547782898,\n",
       "  1.7731033563613892,\n",
       "  1.7675236463546753,\n",
       "  1.7610955238342285,\n",
       "  1.7536464929580688,\n",
       "  1.7439160346984863,\n",
       "  1.731049656867981,\n",
       "  1.7116929292678833,\n",
       "  1.6882058382034302,\n",
       "  1.6608566045761108,\n",
       "  1.6282395124435425,\n",
       "  1.591497540473938,\n",
       "  1.552014708518982,\n",
       "  1.5075711011886597,\n",
       "  1.462081789970398,\n",
       "  1.4145711660385132,\n",
       "  1.3687409162521362,\n",
       "  1.3260780572891235,\n",
       "  1.2824857234954834,\n",
       "  1.2440779209136963,\n",
       "  1.2116514444351196,\n",
       "  1.1777219772338867,\n",
       "  1.1466127634048462,\n",
       "  1.1191191673278809,\n",
       "  1.0933865308761597,\n",
       "  1.068302035331726,\n",
       "  1.0439679622650146,\n",
       "  1.0219587087631226,\n",
       "  1.0011934041976929,\n",
       "  0.9819118976593018,\n",
       "  0.9631466269493103,\n",
       "  0.9455687403678894,\n",
       "  0.9279191493988037,\n",
       "  0.9120038151741028,\n",
       "  0.895873486995697,\n",
       "  0.8816125988960266,\n",
       "  0.8672967553138733,\n",
       "  0.8538579940795898,\n",
       "  0.8403787016868591,\n",
       "  0.8276732563972473,\n",
       "  0.8158298134803772,\n",
       "  0.8036899566650391,\n",
       "  0.7922860980033875,\n",
       "  0.7807687520980835,\n",
       "  0.7697563767433167,\n",
       "  0.7590013146400452,\n",
       "  0.7478019595146179,\n",
       "  0.7378737926483154,\n",
       "  0.7280200719833374,\n",
       "  0.7190982103347778,\n",
       "  0.7105609178543091,\n",
       "  0.7023018002510071,\n",
       "  0.6940600872039795,\n",
       "  0.6851402521133423,\n",
       "  0.67756587266922,\n",
       "  0.6712276339530945,\n",
       "  0.6643160581588745,\n",
       "  0.6576748490333557,\n",
       "  0.6510295271873474,\n",
       "  0.644355058670044,\n",
       "  0.6373915672302246,\n",
       "  0.6309271454811096,\n",
       "  0.6256493330001831,\n",
       "  0.6198328137397766,\n",
       "  0.6137279272079468,\n",
       "  0.6084691286087036,\n",
       "  0.6029999256134033,\n",
       "  0.5973121523857117,\n",
       "  0.5913386344909668,\n",
       "  0.5867335796356201,\n",
       "  0.5823968648910522,\n",
       "  0.5781806707382202,\n",
       "  0.5732298493385315,\n",
       "  0.568400502204895,\n",
       "  0.5640484094619751,\n",
       "  0.5597754716873169,\n",
       "  0.5559952259063721,\n",
       "  0.5514644384384155,\n",
       "  0.5472676753997803,\n",
       "  0.5427727699279785,\n",
       "  0.5384727120399475,\n",
       "  0.534419596195221,\n",
       "  0.5310268998146057,\n",
       "  0.5273330807685852,\n",
       "  0.52369225025177,\n",
       "  0.5201188325881958,\n",
       "  0.5166491866111755,\n",
       "  0.5135414004325867,\n",
       "  0.5102489590644836,\n",
       "  0.5069271326065063,\n",
       "  0.5034210681915283,\n",
       "  0.5002544522285461,\n",
       "  0.49732881784439087,\n",
       "  0.49436357617378235,\n",
       "  0.49146315455436707,\n",
       "  0.48893725872039795],\n",
       " 'accuracy': [0.16851851344108582,\n",
       "  0.2083333283662796,\n",
       "  0.1675925999879837,\n",
       "  0.20185184478759766,\n",
       "  0.24259258806705475,\n",
       "  0.2759259343147278,\n",
       "  0.3037036955356598,\n",
       "  0.31018519401550293,\n",
       "  0.3222222328186035,\n",
       "  0.3490740656852722,\n",
       "  0.36666667461395264,\n",
       "  0.4018518626689911,\n",
       "  0.4453703761100769,\n",
       "  0.4703703820705414,\n",
       "  0.489814817905426,\n",
       "  0.49537035822868347,\n",
       "  0.5064814686775208,\n",
       "  0.5064814686775208,\n",
       "  0.5259259343147278,\n",
       "  0.5259259343147278,\n",
       "  0.5324074029922485,\n",
       "  0.5444444417953491,\n",
       "  0.5601851940155029,\n",
       "  0.5768518447875977,\n",
       "  0.5861111283302307,\n",
       "  0.5962963104248047,\n",
       "  0.6083333492279053,\n",
       "  0.614814817905426,\n",
       "  0.625,\n",
       "  0.6314814686775208,\n",
       "  0.6435185074806213,\n",
       "  0.654629647731781,\n",
       "  0.6638888716697693,\n",
       "  0.6685185432434082,\n",
       "  0.6805555820465088,\n",
       "  0.6888889074325562,\n",
       "  0.6935185194015503,\n",
       "  0.6962962746620178,\n",
       "  0.7018518447875977,\n",
       "  0.7074074149131775,\n",
       "  0.7111111283302307,\n",
       "  0.7129629850387573,\n",
       "  0.7175925970077515,\n",
       "  0.7175925970077515,\n",
       "  0.7231481671333313,\n",
       "  0.7240740656852722,\n",
       "  0.729629635810852,\n",
       "  0.7324073910713196,\n",
       "  0.7351852059364319,\n",
       "  0.7425925731658936,\n",
       "  0.7472222447395325,\n",
       "  0.7527777552604675,\n",
       "  0.7546296119689941,\n",
       "  0.7574074268341064,\n",
       "  0.7629629373550415,\n",
       "  0.7629629373550415,\n",
       "  0.7685185074806213,\n",
       "  0.7740740776062012,\n",
       "  0.7777777910232544,\n",
       "  0.7805555462837219,\n",
       "  0.7833333611488342,\n",
       "  0.7870370149612427,\n",
       "  0.7907407283782959,\n",
       "  0.7907407283782959,\n",
       "  0.7935185432434082,\n",
       "  0.7962962985038757,\n",
       "  0.7972221970558167,\n",
       "  0.8018518686294556,\n",
       "  0.8037037253379822,\n",
       "  0.8064814805984497,\n",
       "  0.8083333373069763,\n",
       "  0.8074073791503906,\n",
       "  0.8074073791503906,\n",
       "  0.8120370507240295,\n",
       "  0.8129629492759705,\n",
       "  0.8175926208496094,\n",
       "  0.8194444179534912,\n",
       "  0.8222222328186035,\n",
       "  0.8240740895271301,\n",
       "  0.8268518447875977,\n",
       "  0.8268518447875977,\n",
       "  0.8305555582046509,\n",
       "  0.8296296000480652,\n",
       "  0.8324074149131775,\n",
       "  0.835185170173645,\n",
       "  0.835185170173645,\n",
       "  0.8361111283302307,\n",
       "  0.8379629850387573,\n",
       "  0.8398148417472839,\n",
       "  0.8407407402992249,\n",
       "  0.8407407402992249,\n",
       "  0.8407407402992249,\n",
       "  0.8425925970077515,\n",
       "  0.8425925970077515,\n",
       "  0.8444444537162781,\n",
       "  0.8435184955596924,\n",
       "  0.8435184955596924,\n",
       "  0.8425925970077515,\n",
       "  0.8435184955596924,\n",
       "  0.8416666388511658],\n",
       " 'val_loss': [1.7896430492401123,\n",
       "  1.7867577075958252,\n",
       "  1.7835800647735596,\n",
       "  1.780552625656128,\n",
       "  1.7762433290481567,\n",
       "  1.7716026306152344,\n",
       "  1.764979600906372,\n",
       "  1.758544683456421,\n",
       "  1.7501243352890015,\n",
       "  1.7382349967956543,\n",
       "  1.7217928171157837,\n",
       "  1.7018119096755981,\n",
       "  1.679121494293213,\n",
       "  1.6498196125030518,\n",
       "  1.6152501106262207,\n",
       "  1.5737675428390503,\n",
       "  1.5320724248886108,\n",
       "  1.490430474281311,\n",
       "  1.444678544998169,\n",
       "  1.3978511095046997,\n",
       "  1.354288935661316,\n",
       "  1.3151381015777588,\n",
       "  1.2731492519378662,\n",
       "  1.235926866531372,\n",
       "  1.2062830924987793,\n",
       "  1.176262617111206,\n",
       "  1.146728277206421,\n",
       "  1.1219197511672974,\n",
       "  1.100180983543396,\n",
       "  1.0731724500656128,\n",
       "  1.0545601844787598,\n",
       "  1.0320098400115967,\n",
       "  1.0133965015411377,\n",
       "  0.9938231110572815,\n",
       "  0.9774447083473206,\n",
       "  0.9595553874969482,\n",
       "  0.9447945952415466,\n",
       "  0.9297683835029602,\n",
       "  0.916536271572113,\n",
       "  0.9029620289802551,\n",
       "  0.890313446521759,\n",
       "  0.8778018951416016,\n",
       "  0.8670865297317505,\n",
       "  0.8544701337814331,\n",
       "  0.8441656827926636,\n",
       "  0.8331397175788879,\n",
       "  0.8236756920814514,\n",
       "  0.8137050867080688,\n",
       "  0.8047114014625549,\n",
       "  0.7960373759269714,\n",
       "  0.7873953580856323,\n",
       "  0.7795233130455017,\n",
       "  0.7729015350341797,\n",
       "  0.765774130821228,\n",
       "  0.7587950229644775,\n",
       "  0.7500631809234619,\n",
       "  0.7442086935043335,\n",
       "  0.7384891510009766,\n",
       "  0.7323524355888367,\n",
       "  0.7258945107460022,\n",
       "  0.7190723419189453,\n",
       "  0.7144950032234192,\n",
       "  0.7078951597213745,\n",
       "  0.7020642161369324,\n",
       "  0.6966280341148376,\n",
       "  0.6935437321662903,\n",
       "  0.6886816620826721,\n",
       "  0.6834121346473694,\n",
       "  0.6797083616256714,\n",
       "  0.6752239465713501,\n",
       "  0.6705616116523743,\n",
       "  0.6664742827415466,\n",
       "  0.6632716655731201,\n",
       "  0.6606172919273376,\n",
       "  0.6562872529029846,\n",
       "  0.6519332528114319,\n",
       "  0.6492050290107727,\n",
       "  0.6453964710235596,\n",
       "  0.6424198150634766,\n",
       "  0.6397874355316162,\n",
       "  0.6363581418991089,\n",
       "  0.6335884928703308,\n",
       "  0.6301648616790771,\n",
       "  0.6274362206459045,\n",
       "  0.6241105198860168,\n",
       "  0.6229838132858276,\n",
       "  0.620347261428833,\n",
       "  0.6176316738128662,\n",
       "  0.6146624088287354,\n",
       "  0.6132326722145081,\n",
       "  0.6109058260917664,\n",
       "  0.6086837649345398,\n",
       "  0.6062870025634766,\n",
       "  0.6032922267913818,\n",
       "  0.6016074419021606,\n",
       "  0.5991470813751221,\n",
       "  0.5974647402763367,\n",
       "  0.595844030380249,\n",
       "  0.5940312743186951,\n",
       "  0.5916423201560974],\n",
       " 'val_accuracy': [0.19166666269302368,\n",
       "  0.17499999701976776,\n",
       "  0.15833333134651184,\n",
       "  0.25833332538604736,\n",
       "  0.25,\n",
       "  0.25833332538604736,\n",
       "  0.32499998807907104,\n",
       "  0.3499999940395355,\n",
       "  0.3583333194255829,\n",
       "  0.3499999940395355,\n",
       "  0.4000000059604645,\n",
       "  0.42500001192092896,\n",
       "  0.44999998807907104,\n",
       "  0.4833333194255829,\n",
       "  0.46666666865348816,\n",
       "  0.5166666507720947,\n",
       "  0.4833333194255829,\n",
       "  0.5083333253860474,\n",
       "  0.4749999940395355,\n",
       "  0.5,\n",
       "  0.5166666507720947,\n",
       "  0.5083333253860474,\n",
       "  0.5833333134651184,\n",
       "  0.5416666865348816,\n",
       "  0.574999988079071,\n",
       "  0.6000000238418579,\n",
       "  0.625,\n",
       "  0.6000000238418579,\n",
       "  0.6166666746139526,\n",
       "  0.6416666507720947,\n",
       "  0.6499999761581421,\n",
       "  0.675000011920929,\n",
       "  0.6666666865348816,\n",
       "  0.7083333134651184,\n",
       "  0.7166666388511658,\n",
       "  0.7250000238418579,\n",
       "  0.7250000238418579,\n",
       "  0.7250000238418579,\n",
       "  0.7333333492279053,\n",
       "  0.7333333492279053,\n",
       "  0.7416666746139526,\n",
       "  0.75,\n",
       "  0.75,\n",
       "  0.75,\n",
       "  0.75,\n",
       "  0.75,\n",
       "  0.75,\n",
       "  0.75,\n",
       "  0.7416666746139526,\n",
       "  0.75,\n",
       "  0.75,\n",
       "  0.7666666507720947,\n",
       "  0.7583333253860474,\n",
       "  0.7666666507720947,\n",
       "  0.7666666507720947,\n",
       "  0.7583333253860474,\n",
       "  0.7583333253860474,\n",
       "  0.7583333253860474,\n",
       "  0.7666666507720947,\n",
       "  0.7749999761581421,\n",
       "  0.7749999761581421,\n",
       "  0.7749999761581421,\n",
       "  0.7666666507720947,\n",
       "  0.7749999761581421,\n",
       "  0.7666666507720947,\n",
       "  0.7749999761581421,\n",
       "  0.7749999761581421,\n",
       "  0.7749999761581421,\n",
       "  0.7916666865348816,\n",
       "  0.7916666865348816,\n",
       "  0.7916666865348816,\n",
       "  0.7916666865348816,\n",
       "  0.800000011920929,\n",
       "  0.800000011920929,\n",
       "  0.800000011920929,\n",
       "  0.800000011920929,\n",
       "  0.800000011920929,\n",
       "  0.8083333373069763,\n",
       "  0.8083333373069763,\n",
       "  0.8083333373069763,\n",
       "  0.8083333373069763,\n",
       "  0.8083333373069763,\n",
       "  0.8083333373069763,\n",
       "  0.8083333373069763,\n",
       "  0.8083333373069763,\n",
       "  0.8083333373069763,\n",
       "  0.8083333373069763,\n",
       "  0.8083333373069763,\n",
       "  0.8083333373069763,\n",
       "  0.8083333373069763,\n",
       "  0.8083333373069763,\n",
       "  0.8083333373069763,\n",
       "  0.8166666626930237,\n",
       "  0.8083333373069763,\n",
       "  0.8083333373069763,\n",
       "  0.8083333373069763,\n",
       "  0.8083333373069763,\n",
       "  0.8083333373069763,\n",
       "  0.8083333373069763,\n",
       "  0.8083333373069763]}"
      ]
     },
     "execution_count": 20,
     "metadata": {},
     "output_type": "execute_result"
    }
   ],
   "source": [
    "history.history"
   ]
  },
  {
   "cell_type": "markdown",
   "metadata": {},
   "source": [
    "Now visualize the loss over time using `history.history`: "
   ]
  },
  {
   "cell_type": "code",
   "execution_count": 21,
   "metadata": {},
   "outputs": [
    {
     "data": {
      "text/plain": [
       "[Text(0, 0.5, 'Accuracy'), Text(0.5, 0, 'Epoch')]"
      ]
     },
     "execution_count": 21,
     "metadata": {},
     "output_type": "execute_result"
    },
    {
     "data": {
      "image/png": "[encoded data removed]",
      "text/plain": [
       "<Figure size 864x576 with 1 Axes>"
      ]
     },
     "metadata": {
      "needs_background": "light"
     },
     "output_type": "display_data"
    },
    {
     "data": {
      "image/png": "[encoded data removed]",
      "text/plain": [
       "<Figure size 864x576 with 1 Axes>"
      ]
     },
     "metadata": {
      "needs_background": "light"
     },
     "output_type": "display_data"
    }
   ],
   "source": [
    "# The history.history[\"loss\"] entry is a dictionary with as many values as epochs that the\n",
    "# model was trained on. \n",
    "df_loss_acc = pd.DataFrame(history.history)\n",
    "df_loss= df_loss_acc[['loss','val_loss']]\n",
    "df_loss.rename(columns={'loss':'train','val_loss':'validation'},inplace=True)\n",
    "df_acc= df_loss_acc[['accuracy','val_accuracy']]\n",
    "df_acc.rename(columns={'accuracy':'train','val_accuracy':'validation'},inplace=True)\n",
    "df_loss.plot(title='Model loss',figsize=(12,8)).set(xlabel='Epoch',ylabel='Loss')\n",
    "df_acc.plot(title='Model Accuracy',figsize=(12,8)).set(xlabel='Epoch',ylabel='Accuracy')"
   ]
  },
  {
   "cell_type": "markdown",
   "metadata": {},
   "source": [
    "**Congratulations**! You've finished the assignment and built two models: One that recognizes  smiles, and another that recognizes SIGN language with almost 80% accuracy on the test set. In addition to that, you now also understand the applications of two Keras APIs: Sequential and Functional. Nicely done! \n",
    "\n",
    "By now, you know a bit about how the Functional API works and may have glimpsed the possibilities. In your next assignment, you'll really get a feel for its power when you get the opportunity to build a very deep ConvNet, using ResNets! "
   ]
  },
  {
   "cell_type": "markdown",
   "metadata": {},
   "source": [
    "<a name='6'></a>\n",
    "## 6 - Bibliography\n",
    "\n",
    "You're always encouraged to read the official documentation. To that end, you can find the docs for the Sequential and Functional APIs here: \n",
    "\n",
    "https://www.tensorflow.org/guide/keras/sequential_model\n",
    "\n",
    "https://www.tensorflow.org/guide/keras/functional"
   ]
  },
  {
   "cell_type": "code",
   "execution_count": null,
   "metadata": {},
   "outputs": [],
   "source": []
  }
 ],
 "metadata": {
  "coursera": {
   "course_slug": "convolutional-neural-networks",
   "graded_item_id": "bwbJV",
   "launcher_item_id": "0TkXB"
  },
  "kernelspec": {
   "display_name": "Python 3",
   "language": "python",
   "name": "python3"
  },
  "language_info": {
   "codemirror_mode": {
    "name": "ipython",
    "version": 3
   },
   "file_extension": ".py",
   "mimetype": "text/x-python",
   "name": "python",
   "nbconvert_exporter": "python",
   "pygments_lexer": "ipython3",
   "version": "3.7.6"
  }
 },
 "nbformat": 4,
 "nbformat_minor": 2
}
